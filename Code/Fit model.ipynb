{
 "cells": [
  {
   "cell_type": "code",
   "execution_count": 1,
   "metadata": {},
   "outputs": [],
   "source": [
    "import torch\n",
    "import torchvision\n",
    "import numpy as np\n",
    "import matplotlib.pyplot as plt\n",
    "from torch.autograd import Variable\n",
    "import pandas as pd\n",
    "from sklearn.metrics import classification_report, accuracy_score\n",
    "import time\n",
    "import pandas as pd"
   ]
  },
  {
   "cell_type": "code",
   "execution_count": 2,
   "metadata": {},
   "outputs": [
    {
     "name": "stdout",
     "output_type": "stream",
     "text": [
      "Using downloaded and verified file: /home/vbhandaru/PycharmProjects/FinalProject/train_32x32.mat\n",
      "Using downloaded and verified file: /home/vbhandaru/PycharmProjects/FinalProject/test_32x32.mat\n"
     ]
    }
   ],
   "source": [
    "SVHN_train = torchvision.datasets.SVHN('/home/vbhandaru/PycharmProjects/FinalProject/',split='train', download=True, transform=torchvision.transforms.ToTensor())\n",
    "SVHN_test = torchvision.datasets.SVHN('/home/vbhandaru/PycharmProjects/FinalProject/', split='test', download=True, transform=torchvision.transforms.ToTensor())"
   ]
  },
  {
   "cell_type": "code",
   "execution_count": 3,
   "metadata": {},
   "outputs": [
    {
     "name": "stdout",
     "output_type": "stream",
     "text": [
      "(73257, 26032)\n",
      "(7000, 66257)\n"
     ]
    }
   ],
   "source": [
    "#Separate training into training and validation\n",
    "print(len(SVHN_train), len(SVHN_test))\n",
    "a = list(range(len(SVHN_train)))\n",
    "np.random.seed(5)\n",
    "np.random.shuffle(a)\n",
    "val_indices = a[0:7000]\n",
    "train1_indices = a[7000:]\n",
    "val = [SVHN_train[i] for i in val_indices]\n",
    "train1 = [SVHN_train[i] for i in train1_indices]\n",
    "print(len(val), len(train1))"
   ]
  },
  {
   "cell_type": "code",
   "execution_count": 18,
   "metadata": {},
   "outputs": [],
   "source": [
    "def conv_train(train_data=SVHN_train, num_epochs=10, batch_size=100, val_data=None, validate=0):\n",
    "    start = time.time()\n",
    "    criterion = torch.nn.CrossEntropyLoss()\n",
    "    train_loader = torch.utils.data.DataLoader(train_data, batch_size=batch_size)\n",
    "    if validate==1:\n",
    "        val_loader = torch.utils.data.DataLoader(val_data, batch_size=batch_size)\n",
    "    for epoch in range(num_epochs):\n",
    "        if epoch%10==0: print(\"epoch \", epoch)\n",
    "        model.train()\n",
    "        for data in train_loader:\n",
    "            inputs, labels = data\n",
    "            inputs = Variable(inputs.cuda())\n",
    "            labels = Variable(labels.cuda())\n",
    "            optimizer.zero_grad()\n",
    "            outputs = model(inputs)\n",
    "            _, preds = torch.max(outputs.data, 1)\n",
    "            loss = criterion(outputs, labels)\n",
    "            loss.backward()\n",
    "            optimizer.step()\n",
    "        if validate==1:\n",
    "            model.eval()\n",
    "            for i, data in enumerate(val_loader):\n",
    "                inputs, labels = data\n",
    "                inputs = Variable(inputs.cuda())\n",
    "                outputs = model(inputs)\n",
    "                _, preds = torch.max(outputs.data, 1)\n",
    "                if i==0:\n",
    "                    df = pd.DataFrame({'Predicted':list(preds), 'Actual': list(labels)})\n",
    "                if i>0:\n",
    "                    df1 = pd.DataFrame({'Predicted':list(preds), 'Actual': list(labels)})\n",
    "                    df = pd.concat([df, df1])\n",
    "            epoch_acc = accuracy_score(df['Actual'], df['Predicted'])\n",
    "            acc1 = pd.DataFrame({'Epoch': [epoch], 'Accuracy': [epoch_acc] })\n",
    "            if epoch==0:\n",
    "                acc = acc1\n",
    "            else:\n",
    "                acc = pd.concat([acc, acc1])\n",
    "            model.eval()\n",
    "            for i, data in enumerate(train_loader):\n",
    "                inputs, labels = data\n",
    "                inputs = Variable(inputs.cuda())\n",
    "                outputs = model(inputs)\n",
    "                _, preds = torch.max(outputs.data, 1)\n",
    "                if i==0:\n",
    "                    df_train = pd.DataFrame({'Predicted':list(preds), 'Actual': list(labels)})\n",
    "                if i>0:\n",
    "                    df1_train = pd.DataFrame({'Predicted':list(preds), 'Actual': list(labels)})\n",
    "                    df_train = pd.concat([df_train, df1_train])\n",
    "            epoch_acc_train = accuracy_score(df_train['Actual'], df_train['Predicted'])\n",
    "            acc1_train = pd.DataFrame({'Epoch': [epoch], 'Accuracy': [epoch_acc_train] })\n",
    "            if epoch==0:\n",
    "                acc_train = acc1_train\n",
    "            else:\n",
    "                acc_train = pd.concat([acc_train, acc1_train])\n",
    "    end = time.time()\n",
    "    t1 = end-start\n",
    "    print str(t1) + ' seconds'\n",
    "    if validate==1: \n",
    "        acc = acc.rename(columns={'Accuracy': 'Validation accuracy'}).merge(acc_train.rename(columns={'Accuracy': 'Training accuracy'}), on='Epoch').set_index('Epoch')\n",
    "        acc.plot(title='Training and validation accuracy')\n",
    "        return acc "
   ]
  },
  {
   "cell_type": "code",
   "execution_count": 5,
   "metadata": {},
   "outputs": [],
   "source": [
    "class Flatten(torch.nn.Module):\n",
    "    def forward(self, input):\n",
    "        return input.view(input.size(0), -1)\n",
    "    "
   ]
  },
  {
   "cell_type": "code",
   "execution_count": 19,
   "metadata": {},
   "outputs": [
    {
     "name": "stdout",
     "output_type": "stream",
     "text": [
      "('epoch ', 0)\n",
      "('epoch ', 10)\n",
      "('epoch ', 20)\n",
      "('epoch ', 30)\n",
      "('epoch ', 40)\n",
      "('epoch ', 50)\n",
      "('epoch ', 60)\n",
      "('epoch ', 70)\n",
      "('epoch ', 80)\n",
      "('epoch ', 90)\n",
      "299.856040001 seconds\n"
     ]
    },
    {
     "data": {
      "image/png": "[encoded data removed]",
      "text/plain": [
       "<matplotlib.figure.Figure at 0x7efc0c46c7d0>"
      ]
     },
     "metadata": {},
     "output_type": "display_data"
    }
   ],
   "source": [
    "model = torch.nn.Sequential(\n",
    "        torch.nn.Conv2d(3,20,5),\n",
    "        torch.nn.MaxPool2d(2, stride=2),\n",
    "        torch.nn.ReLU(),\n",
    "        torch.nn.Conv2d(20,50,5),\n",
    "        torch.nn.MaxPool2d(2, stride=2),\n",
    "        torch.nn.ReLU(),\n",
    "        torch.nn.Dropout2d(0.25),\n",
    "        Flatten(),\n",
    "        torch.nn.Linear(1250, 500), \n",
    "        torch.nn.ReLU(),\n",
    "        torch.nn.Linear(500, 10), \n",
    "        torch.nn.LogSoftmax()\n",
    "        ).cuda() \n",
    "optimizer =torch.optim.Adam(model.parameters(),lr=0.001)\n",
    "acc = conv_train(train_data=train1, num_epochs=100, batch_size=1000, val_data=val, validate=1)"
   ]
  },
  {
   "cell_type": "code",
   "execution_count": 14,
   "metadata": {},
   "outputs": [],
   "source": [
    "def conv_test(batch_size=1000, testds=SVHN_test, report=0):\n",
    "    model.eval()\n",
    "    test_loader = torch.utils.data.DataLoader(testds, batch_size=batch_size, shuffle=True)\n",
    "    for i,data in enumerate(test_loader):\n",
    "        inputs, labels = data\n",
    "        inputs = Variable(inputs.cuda())\n",
    "        labels = labels.cuda()\n",
    "        outputs = model(inputs)\n",
    "        _, preds = torch.max(outputs.data, 1)\n",
    "        if i==0:\n",
    "            df = pd.DataFrame({'Predicted':list(preds), 'Actual': list(labels)})\n",
    "        if i>0:\n",
    "            df1 = pd.DataFrame({'Predicted':list(preds), 'Actual': list(labels)})\n",
    "            df = pd.concat([df, df1])\n",
    "    print(testds)\n",
    "    if report==1:\n",
    "        print(classification_report(df['Actual'], df['Predicted']))\n",
    "    print(accuracy_score(df['Actual'], df['Predicted']))\n",
    "    return df"
   ]
  },
  {
   "cell_type": "code",
   "execution_count": 20,
   "metadata": {},
   "outputs": [
    {
     "name": "stdout",
     "output_type": "stream",
     "text": [
      "<torchvision.datasets.svhn.SVHN object at 0x7efc84adb650>\n",
      "             precision    recall  f1-score   support\n",
      "\n",
      "          0       0.89      0.91      0.90      1744\n",
      "          1       0.92      0.94      0.93      5099\n",
      "          2       0.94      0.92      0.93      4149\n",
      "          3       0.87      0.84      0.85      2882\n",
      "          4       0.88      0.93      0.90      2523\n",
      "          5       0.91      0.90      0.90      2384\n",
      "          6       0.88      0.88      0.88      1977\n",
      "          7       0.92      0.89      0.91      2019\n",
      "          8       0.90      0.83      0.86      1660\n",
      "          9       0.79      0.89      0.84      1595\n",
      "\n",
      "avg / total       0.90      0.90      0.90     26032\n",
      "\n",
      "0.8987784265519361\n"
     ]
    }
   ],
   "source": [
    "ctest_dropout = conv_test(report=1)"
   ]
  },
  {
   "cell_type": "code",
   "execution_count": 25,
   "metadata": {},
   "outputs": [
    {
     "data": {
      "text/html": [
       "<div>\n",
       "<table border=\"1\" class=\"dataframe\">\n",
       "  <thead>\n",
       "    <tr style=\"text-align: right;\">\n",
       "      <th>Predicted</th>\n",
       "      <th>0</th>\n",
       "      <th>1</th>\n",
       "      <th>2</th>\n",
       "      <th>3</th>\n",
       "      <th>4</th>\n",
       "      <th>5</th>\n",
       "      <th>6</th>\n",
       "      <th>7</th>\n",
       "      <th>8</th>\n",
       "      <th>9</th>\n",
       "    </tr>\n",
       "    <tr>\n",
       "      <th>Actual</th>\n",
       "      <th></th>\n",
       "      <th></th>\n",
       "      <th></th>\n",
       "      <th></th>\n",
       "      <th></th>\n",
       "      <th></th>\n",
       "      <th></th>\n",
       "      <th></th>\n",
       "      <th></th>\n",
       "      <th></th>\n",
       "    </tr>\n",
       "  </thead>\n",
       "  <tbody>\n",
       "    <tr>\n",
       "      <th>0</th>\n",
       "      <td>1590</td>\n",
       "      <td>22</td>\n",
       "      <td>10</td>\n",
       "      <td>19</td>\n",
       "      <td>9</td>\n",
       "      <td>7</td>\n",
       "      <td>38</td>\n",
       "      <td>5</td>\n",
       "      <td>11</td>\n",
       "      <td>33</td>\n",
       "    </tr>\n",
       "    <tr>\n",
       "      <th>1</th>\n",
       "      <td>43</td>\n",
       "      <td>4780</td>\n",
       "      <td>47</td>\n",
       "      <td>32</td>\n",
       "      <td>105</td>\n",
       "      <td>11</td>\n",
       "      <td>15</td>\n",
       "      <td>47</td>\n",
       "      <td>7</td>\n",
       "      <td>12</td>\n",
       "    </tr>\n",
       "    <tr>\n",
       "      <th>2</th>\n",
       "      <td>14</td>\n",
       "      <td>50</td>\n",
       "      <td>3823</td>\n",
       "      <td>70</td>\n",
       "      <td>58</td>\n",
       "      <td>15</td>\n",
       "      <td>17</td>\n",
       "      <td>53</td>\n",
       "      <td>21</td>\n",
       "      <td>28</td>\n",
       "    </tr>\n",
       "    <tr>\n",
       "      <th>3</th>\n",
       "      <td>18</td>\n",
       "      <td>95</td>\n",
       "      <td>43</td>\n",
       "      <td>2407</td>\n",
       "      <td>25</td>\n",
       "      <td>77</td>\n",
       "      <td>20</td>\n",
       "      <td>12</td>\n",
       "      <td>36</td>\n",
       "      <td>149</td>\n",
       "    </tr>\n",
       "    <tr>\n",
       "      <th>4</th>\n",
       "      <td>16</td>\n",
       "      <td>60</td>\n",
       "      <td>29</td>\n",
       "      <td>19</td>\n",
       "      <td>2334</td>\n",
       "      <td>6</td>\n",
       "      <td>10</td>\n",
       "      <td>15</td>\n",
       "      <td>11</td>\n",
       "      <td>23</td>\n",
       "    </tr>\n",
       "    <tr>\n",
       "      <th>5</th>\n",
       "      <td>7</td>\n",
       "      <td>15</td>\n",
       "      <td>19</td>\n",
       "      <td>84</td>\n",
       "      <td>25</td>\n",
       "      <td>2135</td>\n",
       "      <td>54</td>\n",
       "      <td>4</td>\n",
       "      <td>7</td>\n",
       "      <td>34</td>\n",
       "    </tr>\n",
       "    <tr>\n",
       "      <th>6</th>\n",
       "      <td>41</td>\n",
       "      <td>16</td>\n",
       "      <td>11</td>\n",
       "      <td>27</td>\n",
       "      <td>33</td>\n",
       "      <td>44</td>\n",
       "      <td>1747</td>\n",
       "      <td>5</td>\n",
       "      <td>31</td>\n",
       "      <td>22</td>\n",
       "    </tr>\n",
       "    <tr>\n",
       "      <th>7</th>\n",
       "      <td>5</td>\n",
       "      <td>118</td>\n",
       "      <td>41</td>\n",
       "      <td>31</td>\n",
       "      <td>16</td>\n",
       "      <td>3</td>\n",
       "      <td>5</td>\n",
       "      <td>1791</td>\n",
       "      <td>2</td>\n",
       "      <td>7</td>\n",
       "    </tr>\n",
       "    <tr>\n",
       "      <th>8</th>\n",
       "      <td>22</td>\n",
       "      <td>13</td>\n",
       "      <td>10</td>\n",
       "      <td>51</td>\n",
       "      <td>29</td>\n",
       "      <td>27</td>\n",
       "      <td>73</td>\n",
       "      <td>4</td>\n",
       "      <td>1373</td>\n",
       "      <td>58</td>\n",
       "    </tr>\n",
       "    <tr>\n",
       "      <th>9</th>\n",
       "      <td>28</td>\n",
       "      <td>18</td>\n",
       "      <td>40</td>\n",
       "      <td>21</td>\n",
       "      <td>19</td>\n",
       "      <td>18</td>\n",
       "      <td>11</td>\n",
       "      <td>3</td>\n",
       "      <td>20</td>\n",
       "      <td>1417</td>\n",
       "    </tr>\n",
       "  </tbody>\n",
       "</table>\n",
       "</div>"
      ],
      "text/plain": [
       "Predicted     0     1     2     3     4     5     6     7     8     9\n",
       "Actual                                                               \n",
       "0          1590    22    10    19     9     7    38     5    11    33\n",
       "1            43  4780    47    32   105    11    15    47     7    12\n",
       "2            14    50  3823    70    58    15    17    53    21    28\n",
       "3            18    95    43  2407    25    77    20    12    36   149\n",
       "4            16    60    29    19  2334     6    10    15    11    23\n",
       "5             7    15    19    84    25  2135    54     4     7    34\n",
       "6            41    16    11    27    33    44  1747     5    31    22\n",
       "7             5   118    41    31    16     3     5  1791     2     7\n",
       "8            22    13    10    51    29    27    73     4  1373    58\n",
       "9            28    18    40    21    19    18    11     3    20  1417"
      ]
     },
     "execution_count": 25,
     "metadata": {},
     "output_type": "execute_result"
    }
   ],
   "source": [
    "pd.crosstab(ctest_dropout['Actual'], ctest_dropout['Predicted'])"
   ]
  },
  {
   "cell_type": "code",
   "execution_count": 21,
   "metadata": {},
   "outputs": [
    {
     "name": "stdout",
     "output_type": "stream",
     "text": [
      "('epoch ', 0)\n",
      "('epoch ', 10)\n",
      "('epoch ', 20)\n",
      "('epoch ', 30)\n",
      "('epoch ', 40)\n",
      "('epoch ', 50)\n",
      "('epoch ', 60)\n",
      "('epoch ', 70)\n",
      "('epoch ', 80)\n",
      "('epoch ', 90)\n",
      "299.101773024 seconds\n"
     ]
    },
    {
     "data": {
      "image/png": "[encoded data removed]",
      "text/plain": [
       "<matplotlib.figure.Figure at 0x7efc841d8c10>"
      ]
     },
     "metadata": {},
     "output_type": "display_data"
    }
   ],
   "source": [
    "model = torch.nn.Sequential(\n",
    "        torch.nn.Conv2d(3,20,5),\n",
    "        torch.nn.MaxPool2d(2, stride=2),\n",
    "        torch.nn.ReLU(),\n",
    "        torch.nn.Conv2d(20,50,5),\n",
    "        torch.nn.MaxPool2d(2, stride=2),\n",
    "        torch.nn.ReLU(),\n",
    "        Flatten(),\n",
    "        torch.nn.Linear(1250, 500), \n",
    "        torch.nn.ReLU(),\n",
    "        torch.nn.Linear(500, 10), \n",
    "        torch.nn.LogSoftmax()\n",
    "        ).cuda() \n",
    "optimizer =torch.optim.Adam(model.parameters(),lr=0.001)\n",
    "acc_nodropout = conv_train(train_data=train1, num_epochs=100, batch_size=1000, val_data=val, validate=1)"
   ]
  },
  {
   "cell_type": "code",
   "execution_count": 22,
   "metadata": {},
   "outputs": [
    {
     "name": "stdout",
     "output_type": "stream",
     "text": [
      "<torchvision.datasets.svhn.SVHN object at 0x7efc84adb650>\n",
      "             precision    recall  f1-score   support\n",
      "\n",
      "          0       0.89      0.89      0.89      1744\n",
      "          1       0.90      0.94      0.92      5099\n",
      "          2       0.93      0.91      0.92      4149\n",
      "          3       0.86      0.83      0.84      2882\n",
      "          4       0.88      0.91      0.90      2523\n",
      "          5       0.93      0.85      0.89      2384\n",
      "          6       0.85      0.86      0.85      1977\n",
      "          7       0.85      0.92      0.88      2019\n",
      "          8       0.85      0.82      0.83      1660\n",
      "          9       0.86      0.83      0.85      1595\n",
      "\n",
      "avg / total       0.89      0.89      0.89     26032\n",
      "\n",
      "0.8861017209588199\n"
     ]
    }
   ],
   "source": [
    "ctest_nodropout = conv_test(report=1)"
   ]
  },
  {
   "cell_type": "code",
   "execution_count": null,
   "metadata": {},
   "outputs": [],
   "source": []
  }
 ],
 "metadata": {
  "kernelspec": {
   "display_name": "Python 2",
   "language": "python",
   "name": "python2"
  },
  "language_info": {
   "codemirror_mode": {
    "name": "ipython",
    "version": 2
   },
   "file_extension": ".py",
   "mimetype": "text/x-python",
   "name": "python",
   "nbconvert_exporter": "python",
   "pygments_lexer": "ipython2",
   "version": "2.7.12"
  }
 },
 "nbformat": 4,
 "nbformat_minor": 1
}

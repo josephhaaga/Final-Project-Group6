{
 "cells": [
  {
   "cell_type": "code",
   "execution_count": 1,
   "metadata": {},
   "outputs": [],
   "source": [
    "import torch\n",
    "import torchvision\n",
    "import numpy as np\n",
    "import matplotlib.pyplot as plt\n",
    "from torch.autograd import Variable\n",
    "import pandas as pd\n",
    "from sklearn.metrics import classification_report, accuracy_score\n",
    "import time\n",
    "import pandas as pd"
   ]
  },
  {
   "cell_type": "code",
   "execution_count": 2,
   "metadata": {},
   "outputs": [
    {
     "name": "stdout",
     "output_type": "stream",
     "text": [
      "Using downloaded and verified file: /home/vbhandaru/PycharmProjects/FinalProject/train_32x32.mat\n",
      "Using downloaded and verified file: /home/vbhandaru/PycharmProjects/FinalProject/test_32x32.mat\n"
     ]
    }
   ],
   "source": [
    "SVHN_train = torchvision.datasets.SVHN('/home/vbhandaru/PycharmProjects/FinalProject/',split='train', download=True, transform=torchvision.transforms.ToTensor())\n",
    "SVHN_test = torchvision.datasets.SVHN('/home/vbhandaru/PycharmProjects/FinalProject/', split='test', download=True, transform=torchvision.transforms.ToTensor())"
   ]
  },
  {
   "cell_type": "code",
   "execution_count": 3,
   "metadata": {},
   "outputs": [
    {
     "name": "stdout",
     "output_type": "stream",
     "text": [
      "(73257, 26032)\n",
      "(7000, 66257)\n"
     ]
    }
   ],
   "source": [
    "#Separate training into training and validation\n",
    "print(len(SVHN_train), len(SVHN_test))\n",
    "a = list(range(len(SVHN_train)))\n",
    "np.random.seed(5)\n",
    "np.random.shuffle(a)\n",
    "val_indices = a[0:7000]\n",
    "train1_indices = a[7000:]\n",
    "val = [SVHN_train[i] for i in val_indices]\n",
    "train1 = [SVHN_train[i] for i in train1_indices]\n",
    "print(len(val), len(train1))"
   ]
  },
  {
   "cell_type": "code",
   "execution_count": 21,
   "metadata": {},
   "outputs": [],
   "source": [
    "def conv_train(train_data=SVHN_train, num_epochs=10, batch_size=100, val_data=None, validate=0):\n",
    "    start = time.time()\n",
    "    criterion = torch.nn.CrossEntropyLoss()\n",
    "    train_loader = torch.utils.data.DataLoader(train_data, batch_size=batch_size)\n",
    "    if validate==1:\n",
    "        val_loader = torch.utils.data.DataLoader(val_data, batch_size=batch_size)\n",
    "    for epoch in range(num_epochs):\n",
    "        if epoch%10==0: print(\"epoch \", epoch)\n",
    "        model.train()\n",
    "        for data in train_loader:\n",
    "            inputs, labels = data\n",
    "            inputs = Variable(inputs.cuda())\n",
    "            labels = Variable(labels.cuda())\n",
    "            optimizer.zero_grad()\n",
    "            outputs = model(inputs)\n",
    "            _, preds = torch.max(outputs.data, 1)\n",
    "            loss = criterion(outputs, labels)\n",
    "            loss.backward()\n",
    "            optimizer.step()\n",
    "        if validate==1:\n",
    "            model.eval()\n",
    "            for i, data in enumerate(val_loader):\n",
    "                inputs, labels = data\n",
    "                inputs = Variable(inputs.cuda())\n",
    "                outputs = model(inputs)\n",
    "                _, preds = torch.max(outputs.data, 1)\n",
    "                if i==0:\n",
    "                    df = pd.DataFrame({'Predicted':list(preds), 'Actual': list(labels)})\n",
    "                if i>0:\n",
    "                    df1 = pd.DataFrame({'Predicted':list(preds), 'Actual': list(labels)})\n",
    "                    df = pd.concat([df, df1])\n",
    "            epoch_acc = accuracy_score(df['Actual'], df['Predicted'])\n",
    "            acc1 = pd.DataFrame({'Epoch': [epoch], 'Accuracy': [epoch_acc] })\n",
    "            if epoch==0:\n",
    "                acc = acc1\n",
    "            else:\n",
    "                acc = pd.concat([acc, acc1])\n",
    "    if validate==1: return acc    \n",
    "    end = time.time()\n",
    "    t1 = end-start\n",
    "    print str(t1) + ' seconds'"
   ]
  },
  {
   "cell_type": "code",
   "execution_count": 5,
   "metadata": {},
   "outputs": [],
   "source": [
    "class Flatten(torch.nn.Module):\n",
    "    def forward(self, input):\n",
    "        return input.view(input.size(0), -1)\n",
    "    "
   ]
  },
  {
   "cell_type": "code",
   "execution_count": 22,
   "metadata": {},
   "outputs": [
    {
     "name": "stdout",
     "output_type": "stream",
     "text": [
      "Batch size 16\n",
      "('epoch ', 0)\n",
      "32.1282219887 seconds\n",
      "Batch size 50\n",
      "('epoch ', 0)\n",
      "18.3828430176 seconds\n",
      "Batch size 100\n",
      "('epoch ', 0)\n",
      "15.3778221607 seconds\n",
      "Batch size 200\n",
      "('epoch ', 0)\n",
      "13.7388448715 seconds\n",
      "Batch size 500\n",
      "('epoch ', 0)\n",
      "12.7581150532 seconds\n",
      "Batch size 1000\n",
      "('epoch ', 0)\n",
      "12.6773319244 seconds\n",
      "Batch size 5000\n",
      "('epoch ', 0)\n",
      "13.69896698 seconds\n",
      "Batch size 10000\n",
      "('epoch ', 0)\n",
      "14.3668179512 seconds\n",
      "Batch size 15000\n",
      "('epoch ', 0)\n",
      "13.8881938457 seconds\n",
      "Batch size 25000\n",
      "('epoch ', 0)\n",
      "13.9888870716 seconds\n"
     ]
    }
   ],
   "source": [
    "#Find optimal batch size\n",
    "model = torch.nn.Sequential(\n",
    "        torch.nn.Conv2d(3,20,5),\n",
    "        torch.nn.MaxPool2d(2, stride=2),\n",
    "        torch.nn.ReLU(),\n",
    "        torch.nn.Conv2d(20,50,5),\n",
    "        torch.nn.MaxPool2d(2, stride=2),\n",
    "        torch.nn.ReLU(),\n",
    "        torch.nn.Dropout2d(0.25),\n",
    "        Flatten(),\n",
    "        torch.nn.Linear(1250, 500), \n",
    "        torch.nn.ReLU(),\n",
    "        torch.nn.Linear(500, 10), \n",
    "        torch.nn.LogSoftmax()\n",
    "        ).cuda() \n",
    "optimizer =torch.optim.SGD(model.parameters(),lr=0.01)\n",
    "print 'Batch size 16'\n",
    "conv_train(batch_size=16, num_epochs=2)\n",
    "print 'Batch size 50'\n",
    "conv_train(batch_size=50, num_epochs=2)\n",
    "print 'Batch size 100'\n",
    "conv_train(batch_size=100, num_epochs=2)\n",
    "print 'Batch size 200'\n",
    "conv_train(batch_size=200, num_epochs=2)\n",
    "print 'Batch size 500'\n",
    "conv_train(batch_size=500, num_epochs=2)\n",
    "print 'Batch size 1000'\n",
    "conv_train(batch_size=1000, num_epochs=2)\n",
    "print 'Batch size 5000'\n",
    "conv_train(batch_size=5000, num_epochs=2)\n",
    "print 'Batch size 10000'\n",
    "conv_train(batch_size=10000, num_epochs=2)\n",
    "print 'Batch size 15000'\n",
    "conv_train(batch_size=15000, num_epochs=2)\n",
    "print 'Batch size 25000'\n",
    "conv_train(batch_size=25000, num_epochs=2)"
   ]
  },
  {
   "cell_type": "code",
   "execution_count": 25,
   "metadata": {},
   "outputs": [
    {
     "data": {
      "text/html": [
       "<div>\n",
       "<table border=\"1\" class=\"dataframe\">\n",
       "  <thead>\n",
       "    <tr style=\"text-align: right;\">\n",
       "      <th></th>\n",
       "      <th>Time (s)</th>\n",
       "    </tr>\n",
       "    <tr>\n",
       "      <th>Batch size</th>\n",
       "      <th></th>\n",
       "    </tr>\n",
       "  </thead>\n",
       "  <tbody>\n",
       "    <tr>\n",
       "      <th>16</th>\n",
       "      <td>32.12822</td>\n",
       "    </tr>\n",
       "    <tr>\n",
       "      <th>50</th>\n",
       "      <td>18.38284</td>\n",
       "    </tr>\n",
       "    <tr>\n",
       "      <th>100</th>\n",
       "      <td>15.37782</td>\n",
       "    </tr>\n",
       "    <tr>\n",
       "      <th>200</th>\n",
       "      <td>13.73884</td>\n",
       "    </tr>\n",
       "    <tr>\n",
       "      <th>500</th>\n",
       "      <td>12.75812</td>\n",
       "    </tr>\n",
       "    <tr>\n",
       "      <th>1000</th>\n",
       "      <td>12.67733</td>\n",
       "    </tr>\n",
       "    <tr>\n",
       "      <th>5000</th>\n",
       "      <td>13.69897</td>\n",
       "    </tr>\n",
       "    <tr>\n",
       "      <th>10000</th>\n",
       "      <td>14.36682</td>\n",
       "    </tr>\n",
       "    <tr>\n",
       "      <th>15000</th>\n",
       "      <td>13.88819</td>\n",
       "    </tr>\n",
       "    <tr>\n",
       "      <th>25000</th>\n",
       "      <td>13.98889</td>\n",
       "    </tr>\n",
       "  </tbody>\n",
       "</table>\n",
       "</div>"
      ],
      "text/plain": [
       "            Time (s)\n",
       "Batch size          \n",
       "16          32.12822\n",
       "50          18.38284\n",
       "100         15.37782\n",
       "200         13.73884\n",
       "500         12.75812\n",
       "1000        12.67733\n",
       "5000        13.69897\n",
       "10000       14.36682\n",
       "15000       13.88819\n",
       "25000       13.98889"
      ]
     },
     "execution_count": 25,
     "metadata": {},
     "output_type": "execute_result"
    },
    {
     "data": {
      "image/png": "[encoded data removed]",
      "text/plain": [
       "<matplotlib.figure.Figure at 0x7f49c5c25fd0>"
      ]
     },
     "metadata": {},
     "output_type": "display_data"
    }
   ],
   "source": [
    "seconds = [32.12822, 18.38284, 15.37782, 13.73884, 12.75812, 12.67733, 13.69897, 14.36682, 13.88819, 13.98889]\n",
    "batch_size_list = [16, 50, 100, 200, 500, 1000, 5000, 10000, 15000, 25000]\n",
    "batch1 = pd.DataFrame({'Batch size': batch_size_list, 'Time (s)': seconds}).set_index('Batch size')\n",
    "batch1.plot(title='Batch size vs. training time')\n",
    "batch1"
   ]
  },
  {
   "cell_type": "code",
   "execution_count": 6,
   "metadata": {},
   "outputs": [
    {
     "name": "stdout",
     "output_type": "stream",
     "text": [
      "('epoch ', 0)\n",
      "('epoch ', 10)\n",
      "('epoch ', 20)\n",
      "('epoch ', 30)\n",
      "('epoch ', 40)\n",
      "('epoch ', 50)\n",
      "('epoch ', 60)\n",
      "('epoch ', 70)\n",
      "('epoch ', 0)\n",
      "('epoch ', 10)\n",
      "('epoch ', 20)\n",
      "('epoch ', 30)\n",
      "('epoch ', 40)\n",
      "('epoch ', 50)\n",
      "('epoch ', 60)\n",
      "('epoch ', 70)\n",
      "('epoch ', 0)\n",
      "('epoch ', 10)\n",
      "('epoch ', 20)\n",
      "('epoch ', 30)\n",
      "('epoch ', 40)\n",
      "('epoch ', 50)\n",
      "('epoch ', 60)\n",
      "('epoch ', 70)\n",
      "('epoch ', 0)\n",
      "('epoch ', 10)\n",
      "('epoch ', 20)\n",
      "('epoch ', 30)\n",
      "('epoch ', 40)\n",
      "('epoch ', 50)\n",
      "('epoch ', 60)\n",
      "('epoch ', 70)\n"
     ]
    }
   ],
   "source": [
    "#Find best optimizer and learning rate\n",
    "model = torch.nn.Sequential(\n",
    "        torch.nn.Conv2d(3,20,5),\n",
    "        torch.nn.MaxPool2d(2, stride=2),\n",
    "        torch.nn.ReLU(),\n",
    "        torch.nn.Conv2d(20,50,5),\n",
    "        torch.nn.MaxPool2d(2, stride=2),\n",
    "        torch.nn.ReLU(),\n",
    "        torch.nn.Dropout2d(0.25),\n",
    "        Flatten(),\n",
    "        torch.nn.Linear(1250, 500), \n",
    "        torch.nn.ReLU(),\n",
    "        torch.nn.Linear(500, 10), \n",
    "        torch.nn.LogSoftmax()\n",
    "        ).cuda() \n",
    "\n",
    "optimizer =torch.optim.SGD(model.parameters(),lr=0.05)\n",
    "sgd_05 = conv_train(train_data=train1, num_epochs=75, batch_size=1000, val_data=val, validate=1)\n",
    "\n",
    "model = torch.nn.Sequential(\n",
    "        torch.nn.Conv2d(3,20,5),\n",
    "        torch.nn.MaxPool2d(2, stride=2),\n",
    "        torch.nn.ReLU(),\n",
    "        torch.nn.Conv2d(20,50,5),\n",
    "        torch.nn.MaxPool2d(2, stride=2),\n",
    "        torch.nn.ReLU(),\n",
    "        torch.nn.Dropout2d(0.25),\n",
    "        Flatten(),\n",
    "        torch.nn.Linear(1250, 500), \n",
    "        torch.nn.ReLU(),\n",
    "        torch.nn.Linear(500, 10), \n",
    "        torch.nn.LogSoftmax()\n",
    "        ).cuda() \n",
    "\n",
    "optimizer =torch.optim.SGD(model.parameters(),lr=0.01)\n",
    "sgd_01 = conv_train(train_data=train1, num_epochs=75, batch_size=1000, val_data=val, validate=1)\n",
    "\n",
    "model = torch.nn.Sequential(\n",
    "        torch.nn.Conv2d(3,20,5),\n",
    "        torch.nn.MaxPool2d(2, stride=2),\n",
    "        torch.nn.ReLU(),\n",
    "        torch.nn.Conv2d(20,50,5),\n",
    "        torch.nn.MaxPool2d(2, stride=2),\n",
    "        torch.nn.ReLU(),\n",
    "        torch.nn.Dropout2d(0.25),\n",
    "        Flatten(),\n",
    "        torch.nn.Linear(1250, 500), \n",
    "        torch.nn.ReLU(),\n",
    "        torch.nn.Linear(500, 10), \n",
    "        torch.nn.LogSoftmax()\n",
    "        ).cuda() \n",
    "optimizer =torch.optim.SGD(model.parameters(),lr=0.001)\n",
    "sgd_001 = conv_train(train_data=train1, num_epochs=75, batch_size=1000, val_data=val, validate=1)\n",
    "\n",
    "model = torch.nn.Sequential(\n",
    "        torch.nn.Conv2d(3,20,5),\n",
    "        torch.nn.MaxPool2d(2, stride=2),\n",
    "        torch.nn.ReLU(),\n",
    "        torch.nn.Conv2d(20,50,5),\n",
    "        torch.nn.MaxPool2d(2, stride=2),\n",
    "        torch.nn.ReLU(),\n",
    "        torch.nn.Dropout2d(0.25),\n",
    "        Flatten(),\n",
    "        torch.nn.Linear(1250, 500), \n",
    "        torch.nn.ReLU(),\n",
    "        torch.nn.Linear(500, 10), \n",
    "        torch.nn.LogSoftmax()\n",
    "        ).cuda() \n",
    "optimizer =torch.optim.SGD(model.parameters(),lr=0.1)\n",
    "sgd_1 = conv_train(train_data=train1, num_epochs=75, batch_size=1000, val_data=val, validate=1)\n"
   ]
  },
  {
   "cell_type": "code",
   "execution_count": 9,
   "metadata": {},
   "outputs": [
    {
     "data": {
      "text/plain": [
       "<matplotlib.axes._subplots.AxesSubplot at 0x7f49d8066290>"
      ]
     },
     "execution_count": 9,
     "metadata": {},
     "output_type": "execute_result"
    },
    {
     "data": {
      "image/png": "[encoded data removed]",
      "text/plain": [
       "<matplotlib.figure.Figure at 0x7f49d80dddd0>"
      ]
     },
     "metadata": {},
     "output_type": "display_data"
    }
   ],
   "source": [
    "sgd = sgd_05.rename(columns={'Accuracy':'SGD lr=0.05'}).merge(sgd_01.rename(columns={'Accuracy':'SGD lr=0.01'}), on='Epoch')\n",
    "sgd = sgd.merge(sgd_001.rename(columns={'Accuracy':'SGD lr=0.001'}), on='Epoch')\n",
    "sgd = sgd.merge(sgd_1.rename(columns={'Accuracy':'SGD lr=0.1'}), on='Epoch').set_index('Epoch')\n",
    "sgd.plot(title='Validation accuracy vs. Epoch')"
   ]
  },
  {
   "cell_type": "code",
   "execution_count": 10,
   "metadata": {},
   "outputs": [
    {
     "name": "stdout",
     "output_type": "stream",
     "text": [
      "('epoch ', 0)\n",
      "('epoch ', 10)\n",
      "('epoch ', 20)\n",
      "('epoch ', 30)\n",
      "('epoch ', 40)\n",
      "('epoch ', 50)\n",
      "('epoch ', 60)\n",
      "('epoch ', 70)\n",
      "('epoch ', 0)\n",
      "('epoch ', 10)\n",
      "('epoch ', 20)\n",
      "('epoch ', 30)\n",
      "('epoch ', 40)\n",
      "('epoch ', 50)\n",
      "('epoch ', 60)\n",
      "('epoch ', 70)\n",
      "('epoch ', 0)\n",
      "('epoch ', 10)\n",
      "('epoch ', 20)\n",
      "('epoch ', 30)\n",
      "('epoch ', 40)\n",
      "('epoch ', 50)\n",
      "('epoch ', 60)\n",
      "('epoch ', 70)\n",
      "('epoch ', 0)\n",
      "('epoch ', 10)\n",
      "('epoch ', 20)\n",
      "('epoch ', 30)\n",
      "('epoch ', 40)\n",
      "('epoch ', 50)\n",
      "('epoch ', 60)\n",
      "('epoch ', 70)\n"
     ]
    }
   ],
   "source": [
    "model = torch.nn.Sequential(\n",
    "        torch.nn.Conv2d(3,20,5),\n",
    "        torch.nn.MaxPool2d(2, stride=2),\n",
    "        torch.nn.ReLU(),\n",
    "        torch.nn.Conv2d(20,50,5),\n",
    "        torch.nn.MaxPool2d(2, stride=2),\n",
    "        torch.nn.ReLU(),\n",
    "        torch.nn.Dropout2d(0.25),\n",
    "        Flatten(),\n",
    "        torch.nn.Linear(1250, 500), \n",
    "        torch.nn.ReLU(),\n",
    "        torch.nn.Linear(500, 10), \n",
    "        torch.nn.LogSoftmax()\n",
    "        ).cuda()\n",
    "optimizer =torch.optim.Adam(model.parameters(),lr=0.05)\n",
    "adam_05 = conv_train(train_data=train1, num_epochs=75, batch_size=1000, val_data=val, validate=1)\n",
    "\n",
    "model = torch.nn.Sequential(\n",
    "        torch.nn.Conv2d(3,20,5),\n",
    "        torch.nn.MaxPool2d(2, stride=2),\n",
    "        torch.nn.ReLU(),\n",
    "        torch.nn.Conv2d(20,50,5),\n",
    "        torch.nn.MaxPool2d(2, stride=2),\n",
    "        torch.nn.ReLU(),\n",
    "        torch.nn.Dropout2d(0.25),\n",
    "        Flatten(),\n",
    "        torch.nn.Linear(1250, 500), \n",
    "        torch.nn.ReLU(),\n",
    "        torch.nn.Linear(500, 10), \n",
    "        torch.nn.LogSoftmax()\n",
    "        ).cuda()\n",
    "optimizer =torch.optim.Adam(model.parameters(),lr=0.01)\n",
    "adam_01 = conv_train(train_data=train1, num_epochs=75, batch_size=1000, val_data=val, validate=1)\n",
    "\n",
    "model = torch.nn.Sequential(\n",
    "        torch.nn.Conv2d(3,20,5),\n",
    "        torch.nn.MaxPool2d(2, stride=2),\n",
    "        torch.nn.ReLU(),\n",
    "        torch.nn.Conv2d(20,50,5),\n",
    "        torch.nn.MaxPool2d(2, stride=2),\n",
    "        torch.nn.ReLU(),\n",
    "        torch.nn.Dropout2d(0.25),\n",
    "        Flatten(),\n",
    "        torch.nn.Linear(1250, 500), \n",
    "        torch.nn.ReLU(),\n",
    "        torch.nn.Linear(500, 10), \n",
    "        torch.nn.LogSoftmax()\n",
    "        ).cuda()\n",
    "optimizer =torch.optim.Adam(model.parameters(),lr=0.001)\n",
    "adam_001 = conv_train(train_data=train1, num_epochs=75, batch_size=1000, val_data=val, validate=1)\n",
    "\n",
    "model = torch.nn.Sequential(\n",
    "        torch.nn.Conv2d(3,20,5),\n",
    "        torch.nn.MaxPool2d(2, stride=2),\n",
    "        torch.nn.ReLU(),\n",
    "        torch.nn.Conv2d(20,50,5),\n",
    "        torch.nn.MaxPool2d(2, stride=2),\n",
    "        torch.nn.ReLU(),\n",
    "        torch.nn.Dropout2d(0.25),\n",
    "        Flatten(),\n",
    "        torch.nn.Linear(1250, 500), \n",
    "        torch.nn.ReLU(),\n",
    "        torch.nn.Linear(500, 10), \n",
    "        torch.nn.LogSoftmax()\n",
    "        ).cuda()\n",
    "optimizer =torch.optim.Adam(model.parameters(),lr=0.1)\n",
    "adam_1 = conv_train(train_data=train1, num_epochs=75, batch_size=1000, val_data=val, validate=1)\n"
   ]
  },
  {
   "cell_type": "code",
   "execution_count": 12,
   "metadata": {},
   "outputs": [
    {
     "name": "stdout",
     "output_type": "stream",
     "text": [
      "       Adam lr=0.05  Adam lr=0.01  Adam lr=0.001  Adam lr=0.1\n",
      "Epoch                                                        \n",
      "65         0.190571      0.190571       0.913429     0.190571\n",
      "66         0.190571      0.190571       0.912571     0.190571\n",
      "67         0.190571      0.190571       0.911000     0.190571\n",
      "68         0.190571      0.190571       0.909857     0.190571\n",
      "69         0.190571      0.190571       0.910714     0.190571\n",
      "70         0.190571      0.190571       0.909429     0.190571\n",
      "71         0.190571      0.190571       0.911000     0.190571\n",
      "72         0.190571      0.190571       0.910571     0.190571\n",
      "73         0.190571      0.190571       0.910714     0.190571\n",
      "74         0.190571      0.190571       0.913571     0.190571\n"
     ]
    },
    {
     "data": {
      "image/png": "[encoded data removed]",
      "text/plain": [
       "<matplotlib.figure.Figure at 0x7f49d0277910>"
      ]
     },
     "metadata": {},
     "output_type": "display_data"
    }
   ],
   "source": [
    "adam = adam_05.rename(columns={'Accuracy':'Adam lr=0.05'}).merge(adam_01.rename(columns={'Accuracy':'Adam lr=0.01'}), on='Epoch')\n",
    "adam = adam.merge(adam_001.rename(columns={'Accuracy':'Adam lr=0.001'}), on='Epoch')\n",
    "adam = adam.merge(adam_1.rename(columns={'Accuracy':'Adam lr=0.1'}), on='Epoch').set_index('Epoch')\n",
    "adam.plot(title='Validation accuracy vs. Epoch')\n",
    "print(adam.tail(10))"
   ]
  },
  {
   "cell_type": "code",
   "execution_count": 18,
   "metadata": {},
   "outputs": [
    {
     "data": {
      "text/plain": [
       "<matplotlib.axes._subplots.AxesSubplot at 0x7f49d00aec90>"
      ]
     },
     "execution_count": 18,
     "metadata": {},
     "output_type": "execute_result"
    },
    {
     "data": {
      "image/png": "[encoded data removed]",
      "text/plain": [
       "<matplotlib.figure.Figure at 0x7f4a3ed5b150>"
      ]
     },
     "metadata": {},
     "output_type": "display_data"
    }
   ],
   "source": [
    "sgd2 = sgd.merge(adam_001.rename(columns={'Accuracy':'Adam lr=0.001'}).set_index('Epoch'), left_index=True, right_index=True)\n",
    "sgd2.plot(title='Validation accuracy vs. Epoch')"
   ]
  }
 ],
 "metadata": {
  "kernelspec": {
   "display_name": "Python 2",
   "language": "python",
   "name": "python2"
  },
  "language_info": {
   "codemirror_mode": {
    "name": "ipython",
    "version": 2
   },
   "file_extension": ".py",
   "mimetype": "text/x-python",
   "name": "python",
   "nbconvert_exporter": "python",
   "pygments_lexer": "ipython2",
   "version": "2.7.12"
  }
 },
 "nbformat": 4,
 "nbformat_minor": 1
}
